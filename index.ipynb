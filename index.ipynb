{
 "cells": [
  {
   "cell_type": "markdown",
   "metadata": {},
   "source": [
    "# Demo Data Science Code Challenge\n",
    "\n",
    "This code challenge is designed to test your understanding of code challenge process. It covers:\n",
    "\n",
    "- Anwering a code question\n",
    "- Answering a short answer question\n",
    "\n",
    "Read the instructions carefully. You will be asked both to write code and respond to a few short answer questions.\n",
    "\n",
    "Note on the short answer questions\n",
    "For the short answer questions please use your own words. The expectation is that you have not copied and pasted from an external source, even if you consult another source to help craft your response. While the short answer questions are not necessarily being assessed on grammatical correctness or sentence structure, you should do your best to communicate yourself clearly."
   ]
  },
  {
   "cell_type": "markdown",
   "metadata": {},
   "source": [
    "### Question 1\n",
    "\n",
    "Adapt the `printnamefunction` to do the following:\n",
    "- take a name as an argument\n",
    "- print \"greetings! I am `name` and I am pleased to make your aquaintance!\"\n",
    "\n",
    "Then in the next cell, assign your actual name (ie \"Sir Patrick Stewart\" or \"Lupita Nyong'o\") to the variable `name`.\n",
    "\n",
    "Run both cells to confirm the result."
   ]
  },
  {
   "cell_type": "code",
   "execution_count": 106,
   "metadata": {},
   "outputs": [],
   "source": [
    "import random\n",
    "def printnamefunction(name):\n",
    "    \"\"\"\n",
    "    this function takes a string name as an argument \n",
    "    and prints a greeting including that name \n",
    "    \"\"\"\n",
    "    greeting_list = [\"Greetings!\", \"Hello!\",\"Hi, there!\", \"Hey!\", \"Hi!\", \"Aloha!\", \"Bonjour!\" ]\n",
    "    print(greeting_list[random.randint(0,len(greeting_list)-1)] + \" I am \" + name + \" and I am pleased to make your aquaintance!\")"
   ]
  },
  {
   "cell_type": "code",
   "execution_count": 107,
   "metadata": {},
   "outputs": [],
   "source": [
    "NAME = \"Rani\""
   ]
  },
  {
   "cell_type": "code",
   "execution_count": 108,
   "metadata": {},
   "outputs": [
    {
     "name": "stdout",
     "output_type": "stream",
     "text": [
      "Bonjour! I am Rani and I am pleased to make your aquaintance!\n"
     ]
    }
   ],
   "source": [
    "printnamefunction(NAME)"
   ]
  },
  {
   "cell_type": "markdown",
   "metadata": {},
   "source": [
    "### Question 2:\n",
    "\n",
    "Please explain the purpose of code challenges in the flatiron school data science program."
   ]
  },
  {
   "cell_type": "code",
   "execution_count": 109,
   "metadata": {},
   "outputs": [],
   "source": [
    "# Coding challenges are meant to solidify the concepts learnt during the day and put the student in \n",
    "# setting to test his or her understanding of the concepts and learn from errors they might encounter in the future."
   ]
  }
 ],
 "metadata": {
  "kernelspec": {
   "display_name": "Python 3",
   "language": "python",
   "name": "python3"
  },
  "language_info": {
   "codemirror_mode": {
    "name": "ipython",
    "version": 3
   },
   "file_extension": ".py",
   "mimetype": "text/x-python",
   "name": "python",
   "nbconvert_exporter": "python",
   "pygments_lexer": "ipython3",
   "version": "3.7.4"
  }
 },
 "nbformat": 4,
 "nbformat_minor": 4
}
